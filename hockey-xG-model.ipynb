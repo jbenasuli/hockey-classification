{
 "cells": [
  {
   "cell_type": "markdown",
   "id": "660d719f",
   "metadata": {},
   "source": [
    "# Modeling Expected Goals For"
   ]
  },
  {
   "cell_type": "code",
   "execution_count": 3,
   "id": "3717ffa6",
   "metadata": {},
   "outputs": [
    {
     "ename": "ImportError",
     "evalue": "cannot import name 'plot_roc_curve' from 'sklearn.metrics' (/Users/jamesbenasuli/miniforge3/envs/learn-env/lib/python3.8/site-packages/sklearn/metrics/__init__.py)",
     "output_type": "error",
     "traceback": [
      "\u001b[0;31m---------------------------------------------------------------------------\u001b[0m",
      "\u001b[0;31mImportError\u001b[0m                               Traceback (most recent call last)",
      "Cell \u001b[0;32mIn[3], line 42\u001b[0m\n\u001b[1;32m     38\u001b[0m \u001b[38;5;28;01mfrom\u001b[39;00m \u001b[38;5;21;01mxgboost\u001b[39;00m \u001b[38;5;28;01mimport\u001b[39;00m XGBClassifier\n\u001b[1;32m     40\u001b[0m \u001b[38;5;66;03m## SKLearn Metrics\u001b[39;00m\n\u001b[1;32m     41\u001b[0m \u001b[38;5;66;03m### Classification Scoring/Evaluation\u001b[39;00m\n\u001b[0;32m---> 42\u001b[0m \u001b[38;5;28;01mfrom\u001b[39;00m \u001b[38;5;21;01msklearn\u001b[39;00m\u001b[38;5;21;01m.\u001b[39;00m\u001b[38;5;21;01mmetrics\u001b[39;00m \u001b[38;5;28;01mimport\u001b[39;00m classification_report, accuracy_score, recall_score, precision_score, f1_score, \\\n\u001b[1;32m     43\u001b[0m ConfusionMatrixDisplay, log_loss, confusion_matrix, RocCurveDisplay, plot_roc_curve\n",
      "\u001b[0;31mImportError\u001b[0m: cannot import name 'plot_roc_curve' from 'sklearn.metrics' (/Users/jamesbenasuli/miniforge3/envs/learn-env/lib/python3.8/site-packages/sklearn/metrics/__init__.py)"
     ]
    }
   ],
   "source": [
    "# Standard Packages\n",
    "import pandas as pd\n",
    "import numpy as np\n",
    "import warnings\n",
    "\n",
    "# Viz Packages\n",
    "import seaborn as sns\n",
    "import matplotlib.pyplot as plt\n",
    "%matplotlib inline \n",
    "\n",
    "# Modeling Packages\n",
    "## Modeling Prep\n",
    "from sklearn.model_selection import train_test_split, cross_val_score, cross_validate, KFold, \\\n",
    "GridSearchCV, RandomizedSearchCV\n",
    "\n",
    "## SKLearn Data Prep Modules\n",
    "from sklearn.preprocessing import StandardScaler, OneHotEncoder, LabelEncoder, \\\n",
    "PolynomialFeatures, PowerTransformer, Normalizer # I think this is part of Powertransformer\n",
    "\n",
    "from sklearn.impute import SimpleImputer\n",
    "\n",
    "## SKLearn Classification Models\n",
    "from sklearn.linear_model import LogisticRegression, Ridge, Lasso, ElasticNet\n",
    "from sklearn.neighbors import KNeighborsClassifier\n",
    "from sklearn.tree import DecisionTreeClassifier\n",
    "from sklearn.ensemble import BaggingClassifier, RandomForestClassifier,\\\n",
    "ExtraTreesClassifier, VotingClassifier, StackingRegressor\n",
    "\n",
    "## SKLearn Pipeline Setup\n",
    "from sklearn.pipeline import Pipeline\n",
    "from sklearn.compose import ColumnTransformer\n",
    "\n",
    "## SKLearn Model Optimization\n",
    "from sklearn.feature_selection import RFE, f_regression\n",
    "\n",
    "## Boosting\n",
    "from xgboost import XGBRegressor\n",
    "from xgboost import XGBClassifier\n",
    "\n",
    "## SKLearn Metrics\n",
    "### Classification Scoring/Evaluation\n",
    "from sklearn.metrics import classification_report, accuracy_score, recall_score, precision_score, f1_score, \\\n",
    "ConfusionMatrixDisplay, log_loss, confusion_matrix, RocCurveDisplay, plot_roc_curve\n"
   ]
  },
  {
   "cell_type": "code",
   "execution_count": 4,
   "id": "30608564",
   "metadata": {},
   "outputs": [],
   "source": [
    "# Notebook Config\n",
    "## Suppress Python Warnings (Future, Deprecation)\n",
    "warnings.filterwarnings(\"ignore\", category= FutureWarning)\n",
    "warnings.filterwarnings(\"ignore\", category=DeprecationWarning)\n",
    "\n",
    "## Suppress Pandas Warnings (SettingWithCopy)\n",
    "pd.options.mode.chained_assignment = None\n",
    "\n",
    "## Pandas Display Config\n",
    "pd.options.display.max_columns = None\n",
    "pd.options.display.width = None\n",
    "\n",
    "## Display SKLearn estimators as diagrams\n",
    "from sklearn import set_config\n",
    "set_config(display= 'diagram')"
   ]
  },
  {
   "cell_type": "code",
   "execution_count": null,
   "id": "f32d33fd",
   "metadata": {},
   "outputs": [],
   "source": []
  },
  {
   "cell_type": "code",
   "execution_count": 5,
   "id": "e54b4826",
   "metadata": {},
   "outputs": [
    {
     "name": "stdout",
     "output_type": "stream",
     "text": [
      "hello world\n"
     ]
    }
   ],
   "source": [
    "print('hello world')"
   ]
  },
  {
   "cell_type": "code",
   "execution_count": null,
   "id": "48e2dc8b",
   "metadata": {},
   "outputs": [],
   "source": []
  }
 ],
 "metadata": {
  "kernelspec": {
   "display_name": "(learn-env)",
   "language": "python",
   "name": "learn-env"
  },
  "language_info": {
   "codemirror_mode": {
    "name": "ipython",
    "version": 3
   },
   "file_extension": ".py",
   "mimetype": "text/x-python",
   "name": "python",
   "nbconvert_exporter": "python",
   "pygments_lexer": "ipython3",
   "version": "3.8.16"
  }
 },
 "nbformat": 4,
 "nbformat_minor": 5
}
